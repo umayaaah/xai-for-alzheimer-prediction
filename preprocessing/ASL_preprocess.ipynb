{
 "cells": [
  {
   "cell_type": "markdown",
   "metadata": {},
   "source": [
    "# ASL - Arterial Spin Labelling\n",
    "- An MRI desrived mean perfusion values for different brain regions\n",
    "\n",
    "## Summary\n",
    "### ADNI\n",
    "* 4459 records, 138 labels\n",
    "* 4459 records missing from dataset (all NAN)\n",
    "\n",
    "### SHEFFIELD\n",
    "* 104 records, 138 labels\n",
    "* 6 rows contain all NAN values\n",
    "* Removed rows, 98 records"
   ]
  },
  {
   "cell_type": "code",
   "execution_count": 10,
   "metadata": {},
   "outputs": [],
   "source": [
    "import numpy as np\n",
    "import pandas as pd"
   ]
  },
  {
   "cell_type": "code",
   "execution_count": 11,
   "metadata": {},
   "outputs": [
    {
     "name": "stdout",
     "output_type": "stream",
     "text": [
      "(4459, 138)\n"
     ]
    },
    {
     "data": {
      "text/plain": [
       "ID                                                           0\n",
       " Right PCu precuneus                                      4459\n",
       " Left PCgG posterior cingulate gyrus                      4459\n",
       " Right PCgG posterior cingulate gyrus                     4459\n",
       " Left OrIFG orbital part of the inferior frontal gyrus    4459\n",
       "                                                          ... \n",
       " Left AnG angular gyrus                                   4459\n",
       " Right Calc calcarine cortex                              4459\n",
       " Left Calc calcarine cortex                               4459\n",
       " Left AIns anterior insula                                4459\n",
       " Left TTG transverse temporal gyrus                       4459\n",
       "Length: 138, dtype: int64"
      ]
     },
     "execution_count": 11,
     "metadata": {},
     "output_type": "execute_result"
    }
   ],
   "source": [
    "\"\"\"\n",
    "ADNI_ASL\n",
    "\"\"\"\n",
    "df = pd.read_csv('datasets/adni_data/ADNI_ASL.csv')\n",
    "print(df.shape)\n",
    "df.isnull().sum().sort_values(ascending=True)"
   ]
  },
  {
   "cell_type": "code",
   "execution_count": 12,
   "metadata": {},
   "outputs": [
    {
     "name": "stdout",
     "output_type": "stream",
     "text": [
      "(104, 138)\n"
     ]
    },
    {
     "data": {
      "text/plain": [
       " Left LiG lingual gyrus                                      6\n",
       " Right OpIFG opercular part of the inferior frontal gyrus    6\n",
       " Right MTG middle temporal gyrus                             6\n",
       " Left MTG middle temporal gyrus                              6\n",
       " Right OCP occipital pole                                    6\n",
       "                                                            ..\n",
       " Right ACgG anterior cingulate gyrus                         6\n",
       " Right Basal Forebrain                                       6\n",
       " Left Basal Forebrain                                        6\n",
       " Cerebellar Vermal Lobules VIIIX                             6\n",
       "ID                                                           0\n",
       "Length: 138, dtype: int64"
      ]
     },
     "execution_count": 12,
     "metadata": {},
     "output_type": "execute_result"
    }
   ],
   "source": [
    "\"\"\"\n",
    "SHEF_ASL\n",
    "\"\"\"\n",
    "df = pd.read_csv('datasets/sheffield_data/SHEF_ASL.csv')\n",
    "print(df.shape)\n",
    "df.isnull().sum().sort_values(ascending=False)"
   ]
  },
  {
   "cell_type": "code",
   "execution_count": 13,
   "metadata": {},
   "outputs": [
    {
     "name": "stdout",
     "output_type": "stream",
     "text": [
      "# Rows before cleanse: 104\n",
      "Rows containing at least one NAN values: 6\n",
      "Rows containing all NAN values: 6\n",
      "Removing these rows...\n",
      "# Rows after cleanse: 98\n",
      "                 ID   Background   3rd Ventricle   4th Ventricle  \\\n",
      "0    SH_DARE_G1_001        6.138          43.285          89.937   \n",
      "1    SH_DARE_G1_002        4.398          14.967          25.965   \n",
      "2    SH_DARE_G1_003        5.003          27.397          26.568   \n",
      "3    SH_DARE_G1_004        4.614          14.119          22.669   \n",
      "4    SH_DARE_G1_005        5.211          15.907          47.526   \n",
      "..              ...          ...             ...             ...   \n",
      "99   SH_DARE_G3_024        4.709          20.046          23.003   \n",
      "100  SH_DARE_G3_025        4.595          29.583          23.711   \n",
      "101  SH_DARE_G3_026        5.324          25.033          34.181   \n",
      "102  SH_DARE_G3_027        2.609          12.967          14.073   \n",
      "103  SH_DARE_G3_028        5.962          27.285          48.554   \n",
      "\n",
      "      Right Accumbens Area   Left Accumbens Area   Right Amygdala  \\\n",
      "0                   12.197                18.634           47.220   \n",
      "1                   44.028                49.073           42.380   \n",
      "2                   10.099                22.805           25.300   \n",
      "3                   18.056                33.293           18.007   \n",
      "4                   43.620                63.183           43.940   \n",
      "..                     ...                   ...              ...   \n",
      "99                  29.676                33.305           26.880   \n",
      "100                 13.761                38.378           32.913   \n",
      "101                 37.014                45.390           40.000   \n",
      "102                 28.761                31.756           23.940   \n",
      "103                 51.817                50.915           28.980   \n",
      "\n",
      "      Left Amygdala   Brain Stem   Right Caudate  ...  \\\n",
      "0            22.422       47.521          35.672  ...   \n",
      "1            31.027       30.163          40.254  ...   \n",
      "2            32.735       31.189          15.416  ...   \n",
      "3            23.667       23.754          20.129  ...   \n",
      "4            40.789       47.435          47.973  ...   \n",
      "..              ...          ...             ...  ...   \n",
      "99           40.109       21.671          31.290  ...   \n",
      "100          30.381       31.314          31.015  ...   \n",
      "101          46.755       36.979          12.445  ...   \n",
      "102          24.871       17.632          18.690  ...   \n",
      "103          33.231       40.023          39.893  ...   \n",
      "\n",
      "      Right SPL superior parietal lobule   Left SPL superior parietal lobule  \\\n",
      "0                                 29.138                              33.299   \n",
      "1                                 34.212                              23.185   \n",
      "2                                 35.778                              37.965   \n",
      "3                                  9.423                              13.191   \n",
      "4                                 25.040                              27.683   \n",
      "..                                   ...                                 ...   \n",
      "99                                20.378                              21.091   \n",
      "100                               29.931                              26.522   \n",
      "101                               46.334                              48.834   \n",
      "102                               17.807                              21.616   \n",
      "103                               39.634                              47.265   \n",
      "\n",
      "      Right STG superior temporal gyrus   Left STG superior temporal gyrus  \\\n",
      "0                                35.577                             36.635   \n",
      "1                                41.533                             34.762   \n",
      "2                                29.968                             28.607   \n",
      "3                                21.419                             32.158   \n",
      "4                                53.351                             46.634   \n",
      "..                                  ...                                ...   \n",
      "99                               34.010                             35.602   \n",
      "100                              34.742                             29.529   \n",
      "101                              59.855                             59.214   \n",
      "102                              22.378                             24.159   \n",
      "103                              41.553                             40.245   \n",
      "\n",
      "      Right TMP temporal pole   Left TMP temporal pole  \\\n",
      "0                      17.146                   20.837   \n",
      "1                      17.629                   12.150   \n",
      "2                      18.764                   19.937   \n",
      "3                      20.338                   13.342   \n",
      "4                      36.841                   32.339   \n",
      "..                        ...                      ...   \n",
      "99                     16.616                   20.832   \n",
      "100                    23.585                   24.977   \n",
      "101                    31.269                   13.905   \n",
      "102                    16.526                   17.392   \n",
      "103                    20.863                   27.471   \n",
      "\n",
      "      Right TrIFG triangular part of the inferior frontal gyrus  \\\n",
      "0                                               12.852            \n",
      "1                                               16.607            \n",
      "2                                               14.906            \n",
      "3                                               14.487            \n",
      "4                                               40.861            \n",
      "..                                                 ...            \n",
      "99                                              14.962            \n",
      "100                                             26.868            \n",
      "101                                             25.393            \n",
      "102                                             18.039            \n",
      "103                                             22.190            \n",
      "\n",
      "      Left TrIFG triangular part of the inferior frontal gyrus  \\\n",
      "0                                               28.562           \n",
      "1                                               26.879           \n",
      "2                                               18.109           \n",
      "3                                               22.533           \n",
      "4                                               55.165           \n",
      "..                                                 ...           \n",
      "99                                              32.685           \n",
      "100                                             31.978           \n",
      "101                                             37.350           \n",
      "102                                             20.447           \n",
      "103                                             42.562           \n",
      "\n",
      "      Right TTG transverse temporal gyrus   Left TTG transverse temporal gyrus  \n",
      "0                                  35.996                               48.301  \n",
      "1                                  42.193                               51.926  \n",
      "2                                  42.822                               43.176  \n",
      "3                                  41.286                               55.878  \n",
      "4                                  63.929                               81.162  \n",
      "..                                    ...                                  ...  \n",
      "99                                 47.848                               71.747  \n",
      "100                                54.476                               69.659  \n",
      "101                                42.680                               86.568  \n",
      "102                                36.138                               41.419  \n",
      "103                                37.796                               52.432  \n",
      "\n",
      "[98 rows x 138 columns]\n"
     ]
    }
   ],
   "source": [
    "\"\"\"\n",
    "There are 6 rows in this dataset that have NAN in every column.\n",
    "Cannot apply data imputation here for completely missing observations\n",
    "\n",
    "null_data is the df containing all missing rows in dataset\n",
    "clean_data is the df after removing all null data\n",
    "\n",
    "OUTPUT\n",
    "# Rows before cleanse: 104\n",
    "Rows containing at least one NAN values: 6\n",
    "Rows containing all NAN values: 6\n",
    "Removing these rows...\n",
    "# Rows after cleanse: 98\n",
    "\"\"\"\n",
    "print(\"# Rows before cleanse: \" + str(df.shape[0]))\n",
    "null_rows = df.isnull().any(axis=1)\n",
    "total_null = sum(null_rows)\n",
    "print(\"Rows containing at least one NAN values: \" + str(total_null))\n",
    "\n",
    "# DF of all null rows\n",
    "null_data = df[null_rows]\n",
    "\n",
    "null_cols = null_data.isnull().sum(axis=1)\n",
    "print(\"Rows containing all NAN values: \" + str(null_cols.count()))\n",
    "\n",
    "# print(null_data)\n",
    "print(\"Removing these rows...\")\n",
    "\n",
    "clean_data = df.dropna(how='all', subset=[n for n in df if n != 'ID'])\n",
    "print(\"# Rows after cleanse: \" + str(clean_data.shape[0]))\n",
    "print(clean_data)\n"
   ]
  }
 ],
 "metadata": {
  "interpreter": {
   "hash": "aee8b7b246df8f9039afb4144a1f6fd8d2ca17a180786b69acc140d282b71a49"
  },
  "kernelspec": {
   "display_name": "Python 3.9.4 64-bit",
   "language": "python",
   "name": "python3"
  },
  "language_info": {
   "codemirror_mode": {
    "name": "ipython",
    "version": 3
   },
   "file_extension": ".py",
   "mimetype": "text/x-python",
   "name": "python",
   "nbconvert_exporter": "python",
   "pygments_lexer": "ipython3",
   "version": "3.9.10"
  },
  "orig_nbformat": 4
 },
 "nbformat": 4,
 "nbformat_minor": 2
}
