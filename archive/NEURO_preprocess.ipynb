{
 "cells": [
  {
   "cell_type": "markdown",
   "metadata": {},
   "source": [
    "# Neurocognitive Test Scores\n",
    "## Features\n",
    "- MMSE = Mini-Mental State Exam (most common test used to diagnose AD). Max 30 points, scores of 22 points or fewer (adjusted by education) indicates memory concerns\n",
    "- CDR = Clinical Dementia Rating (clinical evaluation of the level of dementia) [0 = absent; 0.5 = questionable; 1= present, but mild; 2 = moderate; 3 = severe; 4 = profound; 5 = terminal]\n",
    "- CDRSB = CDR scale Sum of Boxes and score can be used to accurately stage severity of Alzheimer dementia and mild cognitive impairment (MCI)\n",
    "- ADAS11 = has demonstrated the ability to discriminate between the diagnostic categories of NC, MCI, and AD at one point in time\n",
    "- ADAS13 = identified cognitive domains hypothesized to be important treatment targets of antidementia drugs that are not assessed\n",
    "## Summary\n",
    "### ADNI\n",
    "- 4459 rows, 6 features\n",
    "- CDR column completely missing, dropped from dataset\n",
    "- 104 rows with some NAN values\n",
    "### Sheffield"
   ]
  },
  {
   "cell_type": "code",
   "execution_count": 6,
   "metadata": {},
   "outputs": [],
   "source": [
    "import numpy as np\n",
    "import pandas as pd\n",
    "import sklearn\n",
    "import matplotlib.pyplot as plt\n",
    "import seaborn as sns"
   ]
  },
  {
   "cell_type": "markdown",
   "metadata": {},
   "source": [
    "# ADNI DATA"
   ]
  },
  {
   "cell_type": "code",
   "execution_count": 7,
   "metadata": {},
   "outputs": [
    {
     "name": "stdout",
     "output_type": "stream",
     "text": [
      "(4459, 6)\n"
     ]
    },
    {
     "data": {
      "text/html": [
       "<div>\n",
       "<style scoped>\n",
       "    .dataframe tbody tr th:only-of-type {\n",
       "        vertical-align: middle;\n",
       "    }\n",
       "\n",
       "    .dataframe tbody tr th {\n",
       "        vertical-align: top;\n",
       "    }\n",
       "\n",
       "    .dataframe thead th {\n",
       "        text-align: right;\n",
       "    }\n",
       "</style>\n",
       "<table border=\"1\" class=\"dataframe\">\n",
       "  <thead>\n",
       "    <tr style=\"text-align: right;\">\n",
       "      <th></th>\n",
       "      <th>ID</th>\n",
       "      <th>MMSE</th>\n",
       "      <th>CDR</th>\n",
       "      <th>CDRSB</th>\n",
       "      <th>ADAS11</th>\n",
       "      <th>ADAS13</th>\n",
       "    </tr>\n",
       "  </thead>\n",
       "  <tbody>\n",
       "    <tr>\n",
       "      <th>0</th>\n",
       "      <td>1001bl</td>\n",
       "      <td>22.0</td>\n",
       "      <td>NaN</td>\n",
       "      <td>4.5</td>\n",
       "      <td>26.67</td>\n",
       "      <td>38.67</td>\n",
       "    </tr>\n",
       "    <tr>\n",
       "      <th>1</th>\n",
       "      <td>1001m12</td>\n",
       "      <td>12.0</td>\n",
       "      <td>NaN</td>\n",
       "      <td>6.0</td>\n",
       "      <td>38.33</td>\n",
       "      <td>48.33</td>\n",
       "    </tr>\n",
       "    <tr>\n",
       "      <th>2</th>\n",
       "      <td>1002bl</td>\n",
       "      <td>30.0</td>\n",
       "      <td>NaN</td>\n",
       "      <td>0.0</td>\n",
       "      <td>4.33</td>\n",
       "      <td>9.33</td>\n",
       "    </tr>\n",
       "    <tr>\n",
       "      <th>3</th>\n",
       "      <td>1002m12</td>\n",
       "      <td>29.0</td>\n",
       "      <td>NaN</td>\n",
       "      <td>0.0</td>\n",
       "      <td>4.33</td>\n",
       "      <td>9.33</td>\n",
       "    </tr>\n",
       "    <tr>\n",
       "      <th>4</th>\n",
       "      <td>1002m24</td>\n",
       "      <td>30.0</td>\n",
       "      <td>NaN</td>\n",
       "      <td>2.0</td>\n",
       "      <td>3.33</td>\n",
       "      <td>5.33</td>\n",
       "    </tr>\n",
       "    <tr>\n",
       "      <th>...</th>\n",
       "      <td>...</td>\n",
       "      <td>...</td>\n",
       "      <td>...</td>\n",
       "      <td>...</td>\n",
       "      <td>...</td>\n",
       "      <td>...</td>\n",
       "    </tr>\n",
       "    <tr>\n",
       "      <th>4454</th>\n",
       "      <td>997m18</td>\n",
       "      <td>23.0</td>\n",
       "      <td>NaN</td>\n",
       "      <td>4.5</td>\n",
       "      <td>20.00</td>\n",
       "      <td>34.00</td>\n",
       "    </tr>\n",
       "    <tr>\n",
       "      <th>4455</th>\n",
       "      <td>997m24</td>\n",
       "      <td>22.0</td>\n",
       "      <td>NaN</td>\n",
       "      <td>5.5</td>\n",
       "      <td>19.33</td>\n",
       "      <td>30.33</td>\n",
       "    </tr>\n",
       "    <tr>\n",
       "      <th>4456</th>\n",
       "      <td>997m36</td>\n",
       "      <td>23.0</td>\n",
       "      <td>NaN</td>\n",
       "      <td>4.5</td>\n",
       "      <td>25.33</td>\n",
       "      <td>37.33</td>\n",
       "    </tr>\n",
       "    <tr>\n",
       "      <th>4457</th>\n",
       "      <td>999bl</td>\n",
       "      <td>25.0</td>\n",
       "      <td>NaN</td>\n",
       "      <td>4.0</td>\n",
       "      <td>22.67</td>\n",
       "      <td>33.67</td>\n",
       "    </tr>\n",
       "    <tr>\n",
       "      <th>4458</th>\n",
       "      <td>999m12</td>\n",
       "      <td>11.0</td>\n",
       "      <td>NaN</td>\n",
       "      <td>8.0</td>\n",
       "      <td>38.67</td>\n",
       "      <td>48.67</td>\n",
       "    </tr>\n",
       "  </tbody>\n",
       "</table>\n",
       "<p>4459 rows × 6 columns</p>\n",
       "</div>"
      ],
      "text/plain": [
       "           ID  MMSE  CDR  CDRSB  ADAS11  ADAS13\n",
       "0      1001bl  22.0  NaN    4.5   26.67   38.67\n",
       "1     1001m12  12.0  NaN    6.0   38.33   48.33\n",
       "2      1002bl  30.0  NaN    0.0    4.33    9.33\n",
       "3     1002m12  29.0  NaN    0.0    4.33    9.33\n",
       "4     1002m24  30.0  NaN    2.0    3.33    5.33\n",
       "...       ...   ...  ...    ...     ...     ...\n",
       "4454   997m18  23.0  NaN    4.5   20.00   34.00\n",
       "4455   997m24  22.0  NaN    5.5   19.33   30.33\n",
       "4456   997m36  23.0  NaN    4.5   25.33   37.33\n",
       "4457    999bl  25.0  NaN    4.0   22.67   33.67\n",
       "4458   999m12  11.0  NaN    8.0   38.67   48.67\n",
       "\n",
       "[4459 rows x 6 columns]"
      ]
     },
     "execution_count": 7,
     "metadata": {},
     "output_type": "execute_result"
    }
   ],
   "source": [
    "\"\"\"\n",
    "ADNI Dataset\n",
    "\"\"\"\n",
    "df = pd.read_csv('../datasets/adni_data/ADNI_Neuro.csv')\n",
    "print(df.shape)\n",
    "df"
   ]
  },
  {
   "cell_type": "code",
   "execution_count": 8,
   "metadata": {},
   "outputs": [
    {
     "data": {
      "text/plain": [
       "ID           0\n",
       "MMSE        10\n",
       "ADAS11      28\n",
       "CDRSB       32\n",
       "ADAS13      71\n",
       "CDR       4459\n",
       "dtype: int64"
      ]
     },
     "execution_count": 8,
     "metadata": {},
     "output_type": "execute_result"
    }
   ],
   "source": [
    "\"\"\"\n",
    "Check for NAN values\n",
    "\"\"\"\n",
    "df.isnull().sum().sort_values(ascending=True)"
   ]
  },
  {
   "cell_type": "code",
   "execution_count": 9,
   "metadata": {},
   "outputs": [
    {
     "data": {
      "text/html": [
       "<div>\n",
       "<style scoped>\n",
       "    .dataframe tbody tr th:only-of-type {\n",
       "        vertical-align: middle;\n",
       "    }\n",
       "\n",
       "    .dataframe tbody tr th {\n",
       "        vertical-align: top;\n",
       "    }\n",
       "\n",
       "    .dataframe thead th {\n",
       "        text-align: right;\n",
       "    }\n",
       "</style>\n",
       "<table border=\"1\" class=\"dataframe\">\n",
       "  <thead>\n",
       "    <tr style=\"text-align: right;\">\n",
       "      <th></th>\n",
       "      <th>ID</th>\n",
       "      <th>MMSE</th>\n",
       "      <th>CDRSB</th>\n",
       "      <th>ADAS11</th>\n",
       "      <th>ADAS13</th>\n",
       "    </tr>\n",
       "  </thead>\n",
       "  <tbody>\n",
       "    <tr>\n",
       "      <th>0</th>\n",
       "      <td>1001bl</td>\n",
       "      <td>22.0</td>\n",
       "      <td>4.5</td>\n",
       "      <td>26.67</td>\n",
       "      <td>38.67</td>\n",
       "    </tr>\n",
       "    <tr>\n",
       "      <th>1</th>\n",
       "      <td>1001m12</td>\n",
       "      <td>12.0</td>\n",
       "      <td>6.0</td>\n",
       "      <td>38.33</td>\n",
       "      <td>48.33</td>\n",
       "    </tr>\n",
       "    <tr>\n",
       "      <th>2</th>\n",
       "      <td>1002bl</td>\n",
       "      <td>30.0</td>\n",
       "      <td>0.0</td>\n",
       "      <td>4.33</td>\n",
       "      <td>9.33</td>\n",
       "    </tr>\n",
       "    <tr>\n",
       "      <th>3</th>\n",
       "      <td>1002m12</td>\n",
       "      <td>29.0</td>\n",
       "      <td>0.0</td>\n",
       "      <td>4.33</td>\n",
       "      <td>9.33</td>\n",
       "    </tr>\n",
       "    <tr>\n",
       "      <th>4</th>\n",
       "      <td>1002m24</td>\n",
       "      <td>30.0</td>\n",
       "      <td>2.0</td>\n",
       "      <td>3.33</td>\n",
       "      <td>5.33</td>\n",
       "    </tr>\n",
       "    <tr>\n",
       "      <th>...</th>\n",
       "      <td>...</td>\n",
       "      <td>...</td>\n",
       "      <td>...</td>\n",
       "      <td>...</td>\n",
       "      <td>...</td>\n",
       "    </tr>\n",
       "    <tr>\n",
       "      <th>4454</th>\n",
       "      <td>997m18</td>\n",
       "      <td>23.0</td>\n",
       "      <td>4.5</td>\n",
       "      <td>20.00</td>\n",
       "      <td>34.00</td>\n",
       "    </tr>\n",
       "    <tr>\n",
       "      <th>4455</th>\n",
       "      <td>997m24</td>\n",
       "      <td>22.0</td>\n",
       "      <td>5.5</td>\n",
       "      <td>19.33</td>\n",
       "      <td>30.33</td>\n",
       "    </tr>\n",
       "    <tr>\n",
       "      <th>4456</th>\n",
       "      <td>997m36</td>\n",
       "      <td>23.0</td>\n",
       "      <td>4.5</td>\n",
       "      <td>25.33</td>\n",
       "      <td>37.33</td>\n",
       "    </tr>\n",
       "    <tr>\n",
       "      <th>4457</th>\n",
       "      <td>999bl</td>\n",
       "      <td>25.0</td>\n",
       "      <td>4.0</td>\n",
       "      <td>22.67</td>\n",
       "      <td>33.67</td>\n",
       "    </tr>\n",
       "    <tr>\n",
       "      <th>4458</th>\n",
       "      <td>999m12</td>\n",
       "      <td>11.0</td>\n",
       "      <td>8.0</td>\n",
       "      <td>38.67</td>\n",
       "      <td>48.67</td>\n",
       "    </tr>\n",
       "  </tbody>\n",
       "</table>\n",
       "<p>4459 rows × 5 columns</p>\n",
       "</div>"
      ],
      "text/plain": [
       "           ID  MMSE  CDRSB  ADAS11  ADAS13\n",
       "0      1001bl  22.0    4.5   26.67   38.67\n",
       "1     1001m12  12.0    6.0   38.33   48.33\n",
       "2      1002bl  30.0    0.0    4.33    9.33\n",
       "3     1002m12  29.0    0.0    4.33    9.33\n",
       "4     1002m24  30.0    2.0    3.33    5.33\n",
       "...       ...   ...    ...     ...     ...\n",
       "4454   997m18  23.0    4.5   20.00   34.00\n",
       "4455   997m24  22.0    5.5   19.33   30.33\n",
       "4456   997m36  23.0    4.5   25.33   37.33\n",
       "4457    999bl  25.0    4.0   22.67   33.67\n",
       "4458   999m12  11.0    8.0   38.67   48.67\n",
       "\n",
       "[4459 rows x 5 columns]"
      ]
     },
     "execution_count": 9,
     "metadata": {},
     "output_type": "execute_result"
    }
   ],
   "source": [
    "\"\"\"\n",
    "Drop CDR since it is all Nan\n",
    "\"\"\"\n",
    "df = df.drop(['CDR'], axis=1)\n",
    "df"
   ]
  },
  {
   "cell_type": "code",
   "execution_count": 2,
   "metadata": {},
   "outputs": [
    {
     "ename": "NameError",
     "evalue": "name 'df' is not defined",
     "output_type": "error",
     "traceback": [
      "\u001b[0;31m---------------------------------------------------------------------------\u001b[0m",
      "\u001b[0;31mNameError\u001b[0m                                 Traceback (most recent call last)",
      "\u001b[0;32m/var/folders/qg/_7pvsvx17nb_kxf7rphmscvc0000gn/T/ipykernel_2958/159007643.py\u001b[0m in \u001b[0;36m<module>\u001b[0;34m\u001b[0m\n\u001b[1;32m      8\u001b[0m \u001b[0mTotal\u001b[0m \u001b[0;34m=\u001b[0m \u001b[0;36m104\u001b[0m \u001b[0mrows\u001b[0m\u001b[0;34m\u001b[0m\u001b[0;34m\u001b[0m\u001b[0m\n\u001b[1;32m      9\u001b[0m \"\"\"\n\u001b[0;32m---> 10\u001b[0;31m \u001b[0mnan_rows\u001b[0m \u001b[0;34m=\u001b[0m \u001b[0mdf\u001b[0m\u001b[0;34m[\u001b[0m\u001b[0mdf\u001b[0m\u001b[0;34m.\u001b[0m\u001b[0misnull\u001b[0m\u001b[0;34m(\u001b[0m\u001b[0;34m)\u001b[0m\u001b[0;34m.\u001b[0m\u001b[0many\u001b[0m\u001b[0;34m(\u001b[0m\u001b[0maxis\u001b[0m\u001b[0;34m=\u001b[0m\u001b[0;36m1\u001b[0m\u001b[0;34m)\u001b[0m\u001b[0;34m]\u001b[0m\u001b[0;34m\u001b[0m\u001b[0;34m\u001b[0m\u001b[0m\n\u001b[0m\u001b[1;32m     11\u001b[0m \u001b[0;31m# nan_rows\u001b[0m\u001b[0;34m\u001b[0m\u001b[0;34m\u001b[0m\u001b[0m\n\u001b[1;32m     12\u001b[0m \u001b[0mprint\u001b[0m\u001b[0;34m(\u001b[0m\u001b[0;34m\"Feature  # NaN\"\u001b[0m\u001b[0;34m)\u001b[0m\u001b[0;34m\u001b[0m\u001b[0;34m\u001b[0m\u001b[0m\n",
      "\u001b[0;31mNameError\u001b[0m: name 'df' is not defined"
     ]
    }
   ],
   "source": [
    "\"\"\"\n",
    "Show rows with any Nan value:\n",
    "MMSE        10\n",
    "ADAS11      28\n",
    "CDRSB       32\n",
    "ADAS13      71\n",
    "\n",
    "Total = 104 rows\n",
    "\"\"\"\n",
    "nan_rows = df[df.isnull().any(axis=1)]\n",
    "# nan_rows\n",
    "print(\"Feature  # NaN\")\n",
    "df[['MMSE', 'CDRSB', 'ADAS11', 'ADAS13']].isnull().sum()"
   ]
  },
  {
   "cell_type": "code",
   "execution_count": 11,
   "metadata": {},
   "outputs": [
    {
     "data": {
      "text/plain": [
       "<AxesSubplot:xlabel='MMSE', ylabel='CDRSB'>"
      ]
     },
     "execution_count": 11,
     "metadata": {},
     "output_type": "execute_result"
    },
    {
     "data": {
      "image/png": "[encoded data removed]",
      "text/plain": [
       "<Figure size 432x288 with 1 Axes>"
      ]
     },
     "metadata": {
      "needs_background": "light"
     },
     "output_type": "display_data"
    }
   ],
   "source": [
    "\"\"\"\n",
    "Correlation between MMSE and CDRSB: strong negative correlation\n",
    "\"\"\"\n",
    "sns.scatterplot(x=df['MMSE'], y=df['CDRSB'])"
   ]
  },
  {
   "cell_type": "code",
   "execution_count": 12,
   "metadata": {},
   "outputs": [
    {
     "name": "stdout",
     "output_type": "stream",
     "text": [
      "MMSE     0\n",
      "CDRSB    0\n",
      "dtype: int64\n",
      "           ID  MMSE  CDRSB  ADAS11  ADAS13\n",
      "0      1001bl  22.0    4.5   26.67   38.67\n",
      "1     1001m12  12.0    6.0   38.33   48.33\n",
      "2      1002bl  30.0    0.0    4.33    9.33\n",
      "3     1002m12  29.0    0.0    4.33    9.33\n",
      "4     1002m24  30.0    2.0    3.33    5.33\n",
      "...       ...   ...    ...     ...     ...\n",
      "4454   997m18  23.0    4.5   20.00   34.00\n",
      "4455   997m24  22.0    5.5   19.33   30.33\n",
      "4456   997m36  23.0    4.5   25.33   37.33\n",
      "4457    999bl  25.0    4.0   22.67   33.67\n",
      "4458   999m12  11.0    8.0   38.67   48.67\n",
      "\n",
      "[4459 rows x 5 columns]\n"
     ]
    }
   ],
   "source": [
    "\"\"\"\n",
    "Strong correlation between MMSE and CDRSB justifies use of iterative imputer.\n",
    "Imputing NaN values using linear regression.\n",
    "SKlearn Multivariate imputer estimates each feature from all others given.\n",
    "\"\"\"\n",
    "from sklearn.experimental import enable_iterative_imputer\n",
    "from sklearn.impute import IterativeImputer\n",
    "from sklearn.linear_model import LinearRegression\n",
    "\n",
    "itr = IterativeImputer(estimator=LinearRegression())\n",
    "df[['MMSE', 'CDRSB']] = itr.fit_transform(df[['MMSE', 'CDRSB']])\n",
    "\n",
    "# Check nan value count in MMSE, CDRSB\n",
    "print(df[['MMSE', 'CDRSB']].isnull().sum())\n",
    "\n",
    "# TODO: Want to be able to see what the new nan values are after imputation\n",
    "print(df)"
   ]
  },
  {
   "cell_type": "code",
   "execution_count": 13,
   "metadata": {},
   "outputs": [
    {
     "data": {
      "text/plain": [
       "<AxesSubplot:xlabel='CDRSB', ylabel='ADAS11'>"
      ]
     },
     "execution_count": 13,
     "metadata": {},
     "output_type": "execute_result"
    },
    {
     "data": {
      "image/png": "[encoded data removed]",
      "text/plain": [
       "<Figure size 432x288 with 1 Axes>"
      ]
     },
     "metadata": {
      "needs_background": "light"
     },
     "output_type": "display_data"
    }
   ],
   "source": [
    "sns.scatterplot(x=df['CDRSB'], y=df['ADAS11'])"
   ]
  },
  {
   "cell_type": "code",
   "execution_count": 14,
   "metadata": {},
   "outputs": [
    {
     "name": "stdout",
     "output_type": "stream",
     "text": [
      "ADAS11    0\n",
      "ADAS13    0\n",
      "dtype: int64\n"
     ]
    },
    {
     "name": "stderr",
     "output_type": "stream",
     "text": [
      "/usr/local/lib/python3.9/site-packages/sklearn/impute/_iterative.py:685: ConvergenceWarning: [IterativeImputer] Early stopping criterion not reached.\n",
      "  warnings.warn(\"[IterativeImputer] Early stopping criterion not\"\n"
     ]
    }
   ],
   "source": [
    "# Now we want to fill out ADAS11 and ADAS13 based on CDRSB\n",
    "# itr = IterativeImputer(estimator=LinearRegression())\n",
    "df[['CDRSB', 'ADAS11', 'ADAS13']] = itr.fit_transform(df[['CDRSB', 'ADAS11', 'ADAS13']])\n",
    "\n",
    "# Check nan value count in MMSE, CDRSB\n",
    "print(df[['ADAS11', 'ADAS13']].isnull().sum())"
   ]
  },
  {
   "cell_type": "code",
   "execution_count": 15,
   "metadata": {},
   "outputs": [
    {
     "data": {
      "text/html": [
       "<div>\n",
       "<style scoped>\n",
       "    .dataframe tbody tr th:only-of-type {\n",
       "        vertical-align: middle;\n",
       "    }\n",
       "\n",
       "    .dataframe tbody tr th {\n",
       "        vertical-align: top;\n",
       "    }\n",
       "\n",
       "    .dataframe thead th {\n",
       "        text-align: right;\n",
       "    }\n",
       "</style>\n",
       "<table border=\"1\" class=\"dataframe\">\n",
       "  <thead>\n",
       "    <tr style=\"text-align: right;\">\n",
       "      <th></th>\n",
       "      <th>ID</th>\n",
       "      <th>MMSE</th>\n",
       "      <th>ADAS11</th>\n",
       "      <th>ADAS13</th>\n",
       "    </tr>\n",
       "  </thead>\n",
       "  <tbody>\n",
       "    <tr>\n",
       "      <th>0</th>\n",
       "      <td>1001bl</td>\n",
       "      <td>22.0</td>\n",
       "      <td>26.67</td>\n",
       "      <td>38.67</td>\n",
       "    </tr>\n",
       "    <tr>\n",
       "      <th>1</th>\n",
       "      <td>1001m12</td>\n",
       "      <td>12.0</td>\n",
       "      <td>38.33</td>\n",
       "      <td>48.33</td>\n",
       "    </tr>\n",
       "    <tr>\n",
       "      <th>2</th>\n",
       "      <td>1002bl</td>\n",
       "      <td>30.0</td>\n",
       "      <td>4.33</td>\n",
       "      <td>9.33</td>\n",
       "    </tr>\n",
       "    <tr>\n",
       "      <th>3</th>\n",
       "      <td>1002m12</td>\n",
       "      <td>29.0</td>\n",
       "      <td>4.33</td>\n",
       "      <td>9.33</td>\n",
       "    </tr>\n",
       "    <tr>\n",
       "      <th>4</th>\n",
       "      <td>1002m24</td>\n",
       "      <td>30.0</td>\n",
       "      <td>3.33</td>\n",
       "      <td>5.33</td>\n",
       "    </tr>\n",
       "    <tr>\n",
       "      <th>...</th>\n",
       "      <td>...</td>\n",
       "      <td>...</td>\n",
       "      <td>...</td>\n",
       "      <td>...</td>\n",
       "    </tr>\n",
       "    <tr>\n",
       "      <th>4454</th>\n",
       "      <td>997m18</td>\n",
       "      <td>23.0</td>\n",
       "      <td>20.00</td>\n",
       "      <td>34.00</td>\n",
       "    </tr>\n",
       "    <tr>\n",
       "      <th>4455</th>\n",
       "      <td>997m24</td>\n",
       "      <td>22.0</td>\n",
       "      <td>19.33</td>\n",
       "      <td>30.33</td>\n",
       "    </tr>\n",
       "    <tr>\n",
       "      <th>4456</th>\n",
       "      <td>997m36</td>\n",
       "      <td>23.0</td>\n",
       "      <td>25.33</td>\n",
       "      <td>37.33</td>\n",
       "    </tr>\n",
       "    <tr>\n",
       "      <th>4457</th>\n",
       "      <td>999bl</td>\n",
       "      <td>25.0</td>\n",
       "      <td>22.67</td>\n",
       "      <td>33.67</td>\n",
       "    </tr>\n",
       "    <tr>\n",
       "      <th>4458</th>\n",
       "      <td>999m12</td>\n",
       "      <td>11.0</td>\n",
       "      <td>38.67</td>\n",
       "      <td>48.67</td>\n",
       "    </tr>\n",
       "  </tbody>\n",
       "</table>\n",
       "<p>4459 rows × 4 columns</p>\n",
       "</div>"
      ],
      "text/plain": [
       "           ID  MMSE  ADAS11  ADAS13\n",
       "0      1001bl  22.0   26.67   38.67\n",
       "1     1001m12  12.0   38.33   48.33\n",
       "2      1002bl  30.0    4.33    9.33\n",
       "3     1002m12  29.0    4.33    9.33\n",
       "4     1002m24  30.0    3.33    5.33\n",
       "...       ...   ...     ...     ...\n",
       "4454   997m18  23.0   20.00   34.00\n",
       "4455   997m24  22.0   19.33   30.33\n",
       "4456   997m36  23.0   25.33   37.33\n",
       "4457    999bl  25.0   22.67   33.67\n",
       "4458   999m12  11.0   38.67   48.67\n",
       "\n",
       "[4459 rows x 4 columns]"
      ]
     },
     "execution_count": 15,
     "metadata": {},
     "output_type": "execute_result"
    }
   ],
   "source": [
    "# Want to drop CDRSB as it is used for patients who have AD\n",
    "df = df.drop(['CDRSB'], axis=1)\n",
    "df"
   ]
  },
  {
   "cell_type": "code",
   "execution_count": 16,
   "metadata": {},
   "outputs": [],
   "source": [
    "# Write to new preprocessed file\n",
    "df.to_csv('../preprocessed_data/ADNI_NEURO.csv', encoding='utf-8', index=False)"
   ]
  },
  {
   "cell_type": "markdown",
   "metadata": {},
   "source": [
    "# SHEFFIELD DATA"
   ]
  },
  {
   "cell_type": "code",
   "execution_count": 18,
   "metadata": {},
   "outputs": [
    {
     "name": "stdout",
     "output_type": "stream",
     "text": [
      "(4459, 6)\n"
     ]
    },
    {
     "data": {
      "text/html": [
       "<div>\n",
       "<style scoped>\n",
       "    .dataframe tbody tr th:only-of-type {\n",
       "        vertical-align: middle;\n",
       "    }\n",
       "\n",
       "    .dataframe tbody tr th {\n",
       "        vertical-align: top;\n",
       "    }\n",
       "\n",
       "    .dataframe thead th {\n",
       "        text-align: right;\n",
       "    }\n",
       "</style>\n",
       "<table border=\"1\" class=\"dataframe\">\n",
       "  <thead>\n",
       "    <tr style=\"text-align: right;\">\n",
       "      <th></th>\n",
       "      <th>ID</th>\n",
       "      <th>MMSE</th>\n",
       "      <th>CDR</th>\n",
       "      <th>CDRSB</th>\n",
       "      <th>ADAS11</th>\n",
       "      <th>ADAS13</th>\n",
       "    </tr>\n",
       "  </thead>\n",
       "  <tbody>\n",
       "    <tr>\n",
       "      <th>0</th>\n",
       "      <td>SH_DARE_G1_001</td>\n",
       "      <td>21.0</td>\n",
       "      <td>1.0</td>\n",
       "      <td>NaN</td>\n",
       "      <td>NaN</td>\n",
       "      <td>NaN</td>\n",
       "    </tr>\n",
       "    <tr>\n",
       "      <th>1</th>\n",
       "      <td>SH_DARE_G1_002</td>\n",
       "      <td>23.0</td>\n",
       "      <td>1.0</td>\n",
       "      <td>NaN</td>\n",
       "      <td>NaN</td>\n",
       "      <td>NaN</td>\n",
       "    </tr>\n",
       "    <tr>\n",
       "      <th>2</th>\n",
       "      <td>SH_DARE_G1_003</td>\n",
       "      <td>21.0</td>\n",
       "      <td>1.0</td>\n",
       "      <td>NaN</td>\n",
       "      <td>NaN</td>\n",
       "      <td>NaN</td>\n",
       "    </tr>\n",
       "    <tr>\n",
       "      <th>3</th>\n",
       "      <td>SH_DARE_G1_004</td>\n",
       "      <td>16.0</td>\n",
       "      <td>2.0</td>\n",
       "      <td>NaN</td>\n",
       "      <td>NaN</td>\n",
       "      <td>NaN</td>\n",
       "    </tr>\n",
       "    <tr>\n",
       "      <th>4</th>\n",
       "      <td>SH_DARE_G1_005</td>\n",
       "      <td>19.0</td>\n",
       "      <td>1.0</td>\n",
       "      <td>NaN</td>\n",
       "      <td>NaN</td>\n",
       "      <td>NaN</td>\n",
       "    </tr>\n",
       "    <tr>\n",
       "      <th>...</th>\n",
       "      <td>...</td>\n",
       "      <td>...</td>\n",
       "      <td>...</td>\n",
       "      <td>...</td>\n",
       "      <td>...</td>\n",
       "      <td>...</td>\n",
       "    </tr>\n",
       "    <tr>\n",
       "      <th>4454</th>\n",
       "      <td>NaN</td>\n",
       "      <td>NaN</td>\n",
       "      <td>NaN</td>\n",
       "      <td>NaN</td>\n",
       "      <td>NaN</td>\n",
       "      <td>NaN</td>\n",
       "    </tr>\n",
       "    <tr>\n",
       "      <th>4455</th>\n",
       "      <td>NaN</td>\n",
       "      <td>NaN</td>\n",
       "      <td>NaN</td>\n",
       "      <td>NaN</td>\n",
       "      <td>NaN</td>\n",
       "      <td>NaN</td>\n",
       "    </tr>\n",
       "    <tr>\n",
       "      <th>4456</th>\n",
       "      <td>NaN</td>\n",
       "      <td>NaN</td>\n",
       "      <td>NaN</td>\n",
       "      <td>NaN</td>\n",
       "      <td>NaN</td>\n",
       "      <td>NaN</td>\n",
       "    </tr>\n",
       "    <tr>\n",
       "      <th>4457</th>\n",
       "      <td>NaN</td>\n",
       "      <td>NaN</td>\n",
       "      <td>NaN</td>\n",
       "      <td>NaN</td>\n",
       "      <td>NaN</td>\n",
       "      <td>NaN</td>\n",
       "    </tr>\n",
       "    <tr>\n",
       "      <th>4458</th>\n",
       "      <td>NaN</td>\n",
       "      <td>NaN</td>\n",
       "      <td>NaN</td>\n",
       "      <td>NaN</td>\n",
       "      <td>NaN</td>\n",
       "      <td>NaN</td>\n",
       "    </tr>\n",
       "  </tbody>\n",
       "</table>\n",
       "<p>4459 rows × 6 columns</p>\n",
       "</div>"
      ],
      "text/plain": [
       "                  ID  MMSE  CDR  CDRSB  ADAS11  ADAS13\n",
       "0     SH_DARE_G1_001  21.0  1.0    NaN     NaN     NaN\n",
       "1     SH_DARE_G1_002  23.0  1.0    NaN     NaN     NaN\n",
       "2     SH_DARE_G1_003  21.0  1.0    NaN     NaN     NaN\n",
       "3     SH_DARE_G1_004  16.0  2.0    NaN     NaN     NaN\n",
       "4     SH_DARE_G1_005  19.0  1.0    NaN     NaN     NaN\n",
       "...              ...   ...  ...    ...     ...     ...\n",
       "4454             NaN   NaN  NaN    NaN     NaN     NaN\n",
       "4455             NaN   NaN  NaN    NaN     NaN     NaN\n",
       "4456             NaN   NaN  NaN    NaN     NaN     NaN\n",
       "4457             NaN   NaN  NaN    NaN     NaN     NaN\n",
       "4458             NaN   NaN  NaN    NaN     NaN     NaN\n",
       "\n",
       "[4459 rows x 6 columns]"
      ]
     },
     "execution_count": 18,
     "metadata": {},
     "output_type": "execute_result"
    }
   ],
   "source": [
    "df = pd.read_csv('../datasets/sheffield_data/SHEF_Neuro.csv')\n",
    "print(df.shape)\n",
    "df"
   ]
  },
  {
   "cell_type": "code",
   "execution_count": 19,
   "metadata": {},
   "outputs": [
    {
     "data": {
      "text/plain": [
       "ID        4355\n",
       "MMSE      4355\n",
       "CDR       4357\n",
       "CDRSB     4459\n",
       "ADAS11    4459\n",
       "ADAS13    4459\n",
       "dtype: int64"
      ]
     },
     "execution_count": 19,
     "metadata": {},
     "output_type": "execute_result"
    }
   ],
   "source": [
    "\"\"\"\n",
    "Check for NAN values and remove rows with all NAN values\n",
    "\"\"\"\n",
    "df.isnull().sum().sort_values(ascending=True)"
   ]
  },
  {
   "cell_type": "code",
   "execution_count": 20,
   "metadata": {},
   "outputs": [
    {
     "name": "stdout",
     "output_type": "stream",
     "text": [
      "Rows containing all NAN values: 4355\n",
      "Removing rows with all NAN values..\n",
      "# Rows after cleanse: 104\n"
     ]
    },
    {
     "data": {
      "text/plain": [
       "ID          0\n",
       "MMSE        0\n",
       "CDR         2\n",
       "CDRSB     104\n",
       "ADAS11    104\n",
       "ADAS13    104\n",
       "dtype: int64"
      ]
     },
     "execution_count": 20,
     "metadata": {},
     "output_type": "execute_result"
    }
   ],
   "source": [
    "null_rows = df.isnull().all(axis=1)\n",
    "total_null = sum(null_rows)\n",
    "print(\"Rows containing all NAN values: \" + str(total_null))\n",
    "print(\"Removing rows with all NAN values..\")\n",
    "df = df.dropna(how='all')\n",
    "print(\"# Rows after cleanse: \" + str(df.shape[0]))\n",
    "df.isnull().sum().sort_values(ascending=True)"
   ]
  },
  {
   "cell_type": "code",
   "execution_count": 21,
   "metadata": {},
   "outputs": [
    {
     "data": {
      "text/html": [
       "<div>\n",
       "<style scoped>\n",
       "    .dataframe tbody tr th:only-of-type {\n",
       "        vertical-align: middle;\n",
       "    }\n",
       "\n",
       "    .dataframe tbody tr th {\n",
       "        vertical-align: top;\n",
       "    }\n",
       "\n",
       "    .dataframe thead th {\n",
       "        text-align: right;\n",
       "    }\n",
       "</style>\n",
       "<table border=\"1\" class=\"dataframe\">\n",
       "  <thead>\n",
       "    <tr style=\"text-align: right;\">\n",
       "      <th></th>\n",
       "      <th>ID</th>\n",
       "      <th>MMSE</th>\n",
       "      <th>CDR</th>\n",
       "    </tr>\n",
       "  </thead>\n",
       "  <tbody>\n",
       "    <tr>\n",
       "      <th>0</th>\n",
       "      <td>SH_DARE_G1_001</td>\n",
       "      <td>21.0</td>\n",
       "      <td>1.0</td>\n",
       "    </tr>\n",
       "    <tr>\n",
       "      <th>1</th>\n",
       "      <td>SH_DARE_G1_002</td>\n",
       "      <td>23.0</td>\n",
       "      <td>1.0</td>\n",
       "    </tr>\n",
       "    <tr>\n",
       "      <th>2</th>\n",
       "      <td>SH_DARE_G1_003</td>\n",
       "      <td>21.0</td>\n",
       "      <td>1.0</td>\n",
       "    </tr>\n",
       "    <tr>\n",
       "      <th>3</th>\n",
       "      <td>SH_DARE_G1_004</td>\n",
       "      <td>16.0</td>\n",
       "      <td>2.0</td>\n",
       "    </tr>\n",
       "    <tr>\n",
       "      <th>4</th>\n",
       "      <td>SH_DARE_G1_005</td>\n",
       "      <td>19.0</td>\n",
       "      <td>1.0</td>\n",
       "    </tr>\n",
       "    <tr>\n",
       "      <th>...</th>\n",
       "      <td>...</td>\n",
       "      <td>...</td>\n",
       "      <td>...</td>\n",
       "    </tr>\n",
       "    <tr>\n",
       "      <th>99</th>\n",
       "      <td>SH_DARE_G3_024</td>\n",
       "      <td>30.0</td>\n",
       "      <td>0.5</td>\n",
       "    </tr>\n",
       "    <tr>\n",
       "      <th>100</th>\n",
       "      <td>SH_DARE_G3_025</td>\n",
       "      <td>25.0</td>\n",
       "      <td>0.5</td>\n",
       "    </tr>\n",
       "    <tr>\n",
       "      <th>101</th>\n",
       "      <td>SH_DARE_G3_026</td>\n",
       "      <td>25.0</td>\n",
       "      <td>0.5</td>\n",
       "    </tr>\n",
       "    <tr>\n",
       "      <th>102</th>\n",
       "      <td>SH_DARE_G3_027</td>\n",
       "      <td>25.0</td>\n",
       "      <td>0.5</td>\n",
       "    </tr>\n",
       "    <tr>\n",
       "      <th>103</th>\n",
       "      <td>SH_DARE_G3_028</td>\n",
       "      <td>25.0</td>\n",
       "      <td>0.5</td>\n",
       "    </tr>\n",
       "  </tbody>\n",
       "</table>\n",
       "<p>104 rows × 3 columns</p>\n",
       "</div>"
      ],
      "text/plain": [
       "                 ID  MMSE  CDR\n",
       "0    SH_DARE_G1_001  21.0  1.0\n",
       "1    SH_DARE_G1_002  23.0  1.0\n",
       "2    SH_DARE_G1_003  21.0  1.0\n",
       "3    SH_DARE_G1_004  16.0  2.0\n",
       "4    SH_DARE_G1_005  19.0  1.0\n",
       "..              ...   ...  ...\n",
       "99   SH_DARE_G3_024  30.0  0.5\n",
       "100  SH_DARE_G3_025  25.0  0.5\n",
       "101  SH_DARE_G3_026  25.0  0.5\n",
       "102  SH_DARE_G3_027  25.0  0.5\n",
       "103  SH_DARE_G3_028  25.0  0.5\n",
       "\n",
       "[104 rows x 3 columns]"
      ]
     },
     "execution_count": 21,
     "metadata": {},
     "output_type": "execute_result"
    }
   ],
   "source": [
    "\"\"\"\n",
    "Removing completely empty columns\n",
    "\"\"\"\n",
    "df = df.drop(['CDRSB', 'ADAS11', 'ADAS13'], axis=1)\n",
    "df"
   ]
  },
  {
   "cell_type": "code",
   "execution_count": 22,
   "metadata": {},
   "outputs": [
    {
     "data": {
      "text/html": [
       "<div>\n",
       "<style scoped>\n",
       "    .dataframe tbody tr th:only-of-type {\n",
       "        vertical-align: middle;\n",
       "    }\n",
       "\n",
       "    .dataframe tbody tr th {\n",
       "        vertical-align: top;\n",
       "    }\n",
       "\n",
       "    .dataframe thead th {\n",
       "        text-align: right;\n",
       "    }\n",
       "</style>\n",
       "<table border=\"1\" class=\"dataframe\">\n",
       "  <thead>\n",
       "    <tr style=\"text-align: right;\">\n",
       "      <th></th>\n",
       "      <th>ID</th>\n",
       "      <th>MMSE</th>\n",
       "      <th>CDR</th>\n",
       "    </tr>\n",
       "  </thead>\n",
       "  <tbody>\n",
       "    <tr>\n",
       "      <th>43</th>\n",
       "      <td>SH_DARE_G2_011</td>\n",
       "      <td>25.0</td>\n",
       "      <td>NaN</td>\n",
       "    </tr>\n",
       "    <tr>\n",
       "      <th>79</th>\n",
       "      <td>SH_DARE_G3_004</td>\n",
       "      <td>25.0</td>\n",
       "      <td>NaN</td>\n",
       "    </tr>\n",
       "  </tbody>\n",
       "</table>\n",
       "</div>"
      ],
      "text/plain": [
       "                ID  MMSE  CDR\n",
       "43  SH_DARE_G2_011  25.0  NaN\n",
       "79  SH_DARE_G3_004  25.0  NaN"
      ]
     },
     "execution_count": 22,
     "metadata": {},
     "output_type": "execute_result"
    }
   ],
   "source": [
    "\"\"\"\n",
    "Viewing any rows with some NaN values\n",
    "\"\"\"\n",
    "missing_cdr = df[df.isnull().any(axis=1)]\n",
    "missing_cdr"
   ]
  },
  {
   "cell_type": "code",
   "execution_count": 23,
   "metadata": {},
   "outputs": [
    {
     "name": "stdout",
     "output_type": "stream",
     "text": [
      "          MMSE       CDR\n",
      "MMSE  1.000000 -0.897949\n",
      "CDR  -0.897949  1.000000\n"
     ]
    }
   ],
   "source": [
    "\"\"\"\n",
    "CDR has stages 0.5, 1, 2 and 3\n",
    "\n",
    "Want to impute these values based on MMSE and CDR scores\n",
    "Seems like there is strong negative correlation between features (-0.90)\n",
    "\"\"\"\n",
    "print(df.corr())\n"
   ]
  },
  {
   "cell_type": "code",
   "execution_count": null,
   "metadata": {},
   "outputs": [],
   "source": [
    "# Remove CDR"
   ]
  }
 ],
 "metadata": {
  "interpreter": {
   "hash": "aee8b7b246df8f9039afb4144a1f6fd8d2ca17a180786b69acc140d282b71a49"
  },
  "kernelspec": {
   "display_name": "Python 3.9.4 64-bit",
   "language": "python",
   "name": "python3"
  },
  "language_info": {
   "codemirror_mode": {
    "name": "ipython",
    "version": 3
   },
   "file_extension": ".py",
   "mimetype": "text/x-python",
   "name": "python",
   "nbconvert_exporter": "python",
   "pygments_lexer": "ipython3",
   "version": "3.9.10"
  },
  "orig_nbformat": 4
 },
 "nbformat": 4,
 "nbformat_minor": 2
}
